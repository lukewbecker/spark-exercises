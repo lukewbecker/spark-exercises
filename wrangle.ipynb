{
 "cells": [
  {
   "cell_type": "code",
   "execution_count": 1,
   "metadata": {},
   "outputs": [],
   "source": [
    "from pyspark.sql import SparkSession\n",
    "# from pyspark.sql.functions import *\n",
    "\n",
    "spark = SparkSession.builder.getOrCreate()"
   ]
  },
  {
   "cell_type": "code",
   "execution_count": 2,
   "metadata": {},
   "outputs": [],
   "source": [
    "from pyspark.sql.types import StructType, StructField, StringType\n",
    "from pyspark.sql.functions import concat, sum, avg, min, max, count, mean, round\n",
    "from pyspark.sql.functions import lit\n",
    "from pyspark.sql.functions import when\n",
    "from pyspark.sql.functions import col, expr, lower, trim\n",
    "from pyspark.sql.functions import format_string, to_timestamp"
   ]
  },
  {
   "cell_type": "code",
   "execution_count": 3,
   "metadata": {
    "scrolled": true
   },
   "outputs": [
    {
     "data": {
      "text/html": [
       "\n",
       "            <div>\n",
       "                <p><b>SparkSession - in-memory</b></p>\n",
       "                \n",
       "        <div>\n",
       "            <p><b>SparkContext</b></p>\n",
       "\n",
       "            <p><a href=\"http://192.168.1.21:4041\">Spark UI</a></p>\n",
       "\n",
       "            <dl>\n",
       "              <dt>Version</dt>\n",
       "                <dd><code>v3.0.1</code></dd>\n",
       "              <dt>Master</dt>\n",
       "                <dd><code>local[*]</code></dd>\n",
       "              <dt>AppName</dt>\n",
       "                <dd><code>pyspark-shell</code></dd>\n",
       "            </dl>\n",
       "        </div>\n",
       "        \n",
       "            </div>\n",
       "        "
      ],
      "text/plain": [
       "<pyspark.sql.session.SparkSession at 0x7f9e288cfc50>"
      ]
     },
     "execution_count": 3,
     "metadata": {},
     "output_type": "execute_result"
    }
   ],
   "source": [
    "spark"
   ]
  },
  {
   "cell_type": "code",
   "execution_count": 4,
   "metadata": {
    "scrolled": false
   },
   "outputs": [
    {
     "name": "stdout",
     "output_type": "stream",
     "text": [
      "+---------+----------------+\n",
      "|source_id| source_username|\n",
      "+---------+----------------+\n",
      "|   100137|Merlene Blodgett|\n",
      "|   103582|     Carmen Cura|\n",
      "|   106463| Richard Sanchez|\n",
      "|   119403|  Betty De Hoyos|\n",
      "|   119555|  Socorro Quiara|\n",
      "+---------+----------------+\n",
      "only showing top 5 rows\n",
      "\n"
     ]
    }
   ],
   "source": [
    "schema = StructType([\n",
    "    StructField(\"source_id\", StringType()),\n",
    "    StructField(\"source_username\", StringType()),\n",
    "])\n",
    "\n",
    "df = spark.read.csv(\"data/source.csv\", header=True, schema=schema)\n",
    "df.show(5)"
   ]
  },
  {
   "cell_type": "code",
   "execution_count": 6,
   "metadata": {},
   "outputs": [],
   "source": [
    "df.write.json(\"call-json\")"
   ]
  },
  {
   "cell_type": "markdown",
   "metadata": {},
   "source": [
    "### Prep for main dataframe"
   ]
  },
  {
   "cell_type": "code",
   "execution_count": 7,
   "metadata": {},
   "outputs": [
    {
     "name": "stdout",
     "output_type": "stream",
     "text": [
      "root\n",
      " |-- case_id: integer (nullable = true)\n",
      " |-- case_opened_date: string (nullable = true)\n",
      " |-- case_closed_date: string (nullable = true)\n",
      " |-- SLA_due_date: string (nullable = true)\n",
      " |-- case_late: string (nullable = true)\n",
      " |-- num_days_late: double (nullable = true)\n",
      " |-- case_closed: string (nullable = true)\n",
      " |-- dept_division: string (nullable = true)\n",
      " |-- service_request_type: string (nullable = true)\n",
      " |-- SLA_days: double (nullable = true)\n",
      " |-- case_status: string (nullable = true)\n",
      " |-- source_id: string (nullable = true)\n",
      " |-- request_address: string (nullable = true)\n",
      " |-- council_district: integer (nullable = true)\n",
      "\n",
      "-RECORD 0------------------------------------\n",
      " case_id              | 1014127332           \n",
      " case_opened_date     | 1/1/18 0:42          \n",
      " case_closed_date     | 1/1/18 12:29         \n",
      " SLA_due_date         | 9/26/20 0:42         \n",
      " case_late            | NO                   \n",
      " num_days_late        | -998.5087616000001   \n",
      " case_closed          | YES                  \n",
      " dept_division        | Field Operations     \n",
      " service_request_type | Stray Animal         \n",
      " SLA_days             | 999.0                \n",
      " case_status          | Closed               \n",
      " source_id            | svcCRMLS             \n",
      " request_address      | 2315  EL PASO ST,... \n",
      " council_district     | 5                    \n",
      "-RECORD 1------------------------------------\n",
      " case_id              | 1014127333           \n",
      " case_opened_date     | 1/1/18 0:46          \n",
      " case_closed_date     | 1/3/18 8:11          \n",
      " SLA_due_date         | 1/5/18 8:30          \n",
      " case_late            | NO                   \n",
      " num_days_late        | -2.0126041669999997  \n",
      " case_closed          | YES                  \n",
      " dept_division        | Storm Water          \n",
      " service_request_type | Removal Of Obstru... \n",
      " SLA_days             | 4.322222222          \n",
      " case_status          | Closed               \n",
      " source_id            | svcCRMSS             \n",
      " request_address      | 2215  GOLIAD RD, ... \n",
      " council_district     | 3                    \n",
      "-RECORD 2------------------------------------\n",
      " case_id              | 1014127334           \n",
      " case_opened_date     | 1/1/18 0:48          \n",
      " case_closed_date     | 1/2/18 7:57          \n",
      " SLA_due_date         | 1/5/18 8:30          \n",
      " case_late            | NO                   \n",
      " num_days_late        | -3.022337963         \n",
      " case_closed          | YES                  \n",
      " dept_division        | Storm Water          \n",
      " service_request_type | Removal Of Obstru... \n",
      " SLA_days             | 4.320729167          \n",
      " case_status          | Closed               \n",
      " source_id            | svcCRMSS             \n",
      " request_address      | 102  PALFREY ST W... \n",
      " council_district     | 3                    \n",
      "-RECORD 3------------------------------------\n",
      " case_id              | 1014127335           \n",
      " case_opened_date     | 1/1/18 1:29          \n",
      " case_closed_date     | 1/2/18 8:13          \n",
      " SLA_due_date         | 1/17/18 8:30         \n",
      " case_late            | NO                   \n",
      " num_days_late        | -15.01148148         \n",
      " case_closed          | YES                  \n",
      " dept_division        | Code Enforcement     \n",
      " service_request_type | Front Or Side Yar... \n",
      " SLA_days             | 16.29188657          \n",
      " case_status          | Closed               \n",
      " source_id            | svcCRMSS             \n",
      " request_address      | 114  LA GARDE ST,... \n",
      " council_district     | 3                    \n",
      "-RECORD 4------------------------------------\n",
      " case_id              | 1014127336           \n",
      " case_opened_date     | 1/1/18 1:34          \n",
      " case_closed_date     | 1/1/18 13:29         \n",
      " SLA_due_date         | 1/1/18 4:34          \n",
      " case_late            | YES                  \n",
      " num_days_late        | 0.37216435200000003  \n",
      " case_closed          | YES                  \n",
      " dept_division        | Field Operations     \n",
      " service_request_type | Animal Cruelty(Cr... \n",
      " SLA_days             | 0.125                \n",
      " case_status          | Closed               \n",
      " source_id            | svcCRMSS             \n",
      " request_address      | 734  CLEARVIEW DR... \n",
      " council_district     | 7                    \n",
      "only showing top 5 rows\n",
      "\n"
     ]
    }
   ],
   "source": [
    "df = spark.read.csv('data/case.csv', header=True, inferSchema=True)\n",
    "df.printSchema()\n",
    "df.show(5, vertical=True)"
   ]
  },
  {
   "cell_type": "code",
   "execution_count": 8,
   "metadata": {},
   "outputs": [],
   "source": [
    "df = df.withColumnRenamed(\"SLA_due_date\", \"case_due_date\")"
   ]
  },
  {
   "cell_type": "code",
   "execution_count": 9,
   "metadata": {},
   "outputs": [
    {
     "name": "stdout",
     "output_type": "stream",
     "text": [
      "== Physical Plan ==\n",
      "*(1) Project [case_id#37, case_opened_date#38, case_closed_date#39, SLA_due_date#40 AS case_due_date#136, case_late#41, num_days_late#42, case_closed#43, dept_division#44, service_request_type#45, SLA_days#46, case_status#47, source_id#48, request_address#49, council_district#50]\n",
      "+- FileScan csv [case_id#37,case_opened_date#38,case_closed_date#39,SLA_due_date#40,case_late#41,num_days_late#42,case_closed#43,dept_division#44,service_request_type#45,SLA_days#46,case_status#47,source_id#48,request_address#49,council_district#50] Batched: false, DataFilters: [], Format: CSV, Location: InMemoryFileIndex[file:/Users/luke/codeup-data-science/spark-exercises/data/case.csv], PartitionFilters: [], PushedFilters: [], ReadSchema: struct<case_id:int,case_opened_date:string,case_closed_date:string,SLA_due_date:string,case_late:...\n",
      "\n",
      "\n"
     ]
    }
   ],
   "source": [
    "df.explain()"
   ]
  },
  {
   "cell_type": "code",
   "execution_count": 10,
   "metadata": {},
   "outputs": [],
   "source": [
    "# Changing these case columns to booleans:\n",
    "df = df.withColumn(\"case_late\", expr(\"case_late == 'YES'\"))\n",
    "df = df.withColumn(\"case_closed\", expr(\"case_closed == 'YES'\"))"
   ]
  },
  {
   "cell_type": "code",
   "execution_count": 14,
   "metadata": {},
   "outputs": [],
   "source": [
    "# standardizing the district column\n",
    "df = df.withColumn(\"council_district\", format_string(\"%03d\", col(\"council_district\")))"
   ]
  },
  {
   "cell_type": "code",
   "execution_count": 16,
   "metadata": {},
   "outputs": [
    {
     "name": "stdout",
     "output_type": "stream",
     "text": [
      "+----------------+-----------------------------------------------+\n",
      "|case_opened_date|to_timestamp(`case_opened_date`, 'M/d/yy H:mm')|\n",
      "+----------------+-----------------------------------------------+\n",
      "|     1/1/18 0:42|                            2018-01-01 00:42:00|\n",
      "|     1/1/18 0:46|                            2018-01-01 00:46:00|\n",
      "|     1/1/18 0:48|                            2018-01-01 00:48:00|\n",
      "|     1/1/18 1:29|                            2018-01-01 01:29:00|\n",
      "|     1/1/18 1:34|                            2018-01-01 01:34:00|\n",
      "+----------------+-----------------------------------------------+\n",
      "only showing top 5 rows\n",
      "\n"
     ]
    }
   ],
   "source": [
    "fmt = \"M/d/yy H:mm\"\n",
    "\n",
    "df.select(\n",
    "    \"case_opened_date\",\n",
    "    to_timestamp(\"case_opened_date\", fmt)\n",
    ").show(5)"
   ]
  },
  {
   "cell_type": "code",
   "execution_count": 17,
   "metadata": {},
   "outputs": [],
   "source": [
    "# Adjusting date columns:\n",
    "\n",
    "fmt = \"M/d/yy H:mm\"\n",
    "\n",
    "df = df.withColumn(\"case_opened_date\", to_timestamp(\"case_opened_date\", fmt))\n",
    "df = df.withColumn(\"case_closed_date\", to_timestamp(\"case_closed_date\", fmt))\n",
    "df = df.withColumn(\"case_due_date\", to_timestamp(\"case_due_date\", fmt))"
   ]
  },
  {
   "cell_type": "code",
   "execution_count": 18,
   "metadata": {},
   "outputs": [
    {
     "name": "stdout",
     "output_type": "stream",
     "text": [
      "== Physical Plan ==\n",
      "*(1) Project [case_id#37, gettimestamp(case_opened_date#38, M/d/yy H:mm, Some(America/Chicago)) AS case_opened_date#493, gettimestamp(case_closed_date#39, M/d/yy H:mm, Some(America/Chicago)) AS case_closed_date#508, gettimestamp(SLA_due_date#40, M/d/yy H:mm, Some(America/Chicago)) AS case_due_date#523, (case_late#41 = YES) AS case_late#151, num_days_late#42, (case_closed#43 = YES) AS case_closed#166, dept_division#44, service_request_type#45, SLA_days#46, case_status#47, source_id#48, request_address#49, format_string(%03d, council_district#50) AS council_district#394]\n",
      "+- FileScan csv [case_id#37,case_opened_date#38,case_closed_date#39,SLA_due_date#40,case_late#41,num_days_late#42,case_closed#43,dept_division#44,service_request_type#45,SLA_days#46,case_status#47,source_id#48,request_address#49,council_district#50] Batched: false, DataFilters: [], Format: CSV, Location: InMemoryFileIndex[file:/Users/luke/codeup-data-science/spark-exercises/data/case.csv], PartitionFilters: [], PushedFilters: [], ReadSchema: struct<case_id:int,case_opened_date:string,case_closed_date:string,SLA_due_date:string,case_late:...\n",
      "\n",
      "\n"
     ]
    }
   ],
   "source": [
    "df.explain()"
   ]
  },
  {
   "cell_type": "code",
   "execution_count": 19,
   "metadata": {
    "scrolled": false
   },
   "outputs": [
    {
     "name": "stdout",
     "output_type": "stream",
     "text": [
      "root\n",
      " |-- case_id: integer (nullable = true)\n",
      " |-- case_opened_date: timestamp (nullable = true)\n",
      " |-- case_closed_date: timestamp (nullable = true)\n",
      " |-- case_due_date: timestamp (nullable = true)\n",
      " |-- case_late: boolean (nullable = true)\n",
      " |-- num_days_late: double (nullable = true)\n",
      " |-- case_closed: boolean (nullable = true)\n",
      " |-- dept_division: string (nullable = true)\n",
      " |-- service_request_type: string (nullable = true)\n",
      " |-- SLA_days: double (nullable = true)\n",
      " |-- case_status: string (nullable = true)\n",
      " |-- source_id: string (nullable = true)\n",
      " |-- request_address: string (nullable = true)\n",
      " |-- council_district: string (nullable = false)\n",
      "\n",
      "-RECORD 0------------------------------------\n",
      " case_id              | 1014127332           \n",
      " case_opened_date     | 2018-01-01 00:42:00  \n",
      " case_closed_date     | 2018-01-01 12:29:00  \n",
      " case_due_date        | 2020-09-26 00:42:00  \n",
      " case_late            | false                \n",
      " num_days_late        | -998.5087616000001   \n",
      " case_closed          | true                 \n",
      " dept_division        | Field Operations     \n",
      " service_request_type | Stray Animal         \n",
      " SLA_days             | 999.0                \n",
      " case_status          | Closed               \n",
      " source_id            | svcCRMLS             \n",
      " request_address      | 2315  EL PASO ST,... \n",
      " council_district     | 005                  \n",
      "-RECORD 1------------------------------------\n",
      " case_id              | 1014127333           \n",
      " case_opened_date     | 2018-01-01 00:46:00  \n",
      " case_closed_date     | 2018-01-03 08:11:00  \n",
      " case_due_date        | 2018-01-05 08:30:00  \n",
      " case_late            | false                \n",
      " num_days_late        | -2.0126041669999997  \n",
      " case_closed          | true                 \n",
      " dept_division        | Storm Water          \n",
      " service_request_type | Removal Of Obstru... \n",
      " SLA_days             | 4.322222222          \n",
      " case_status          | Closed               \n",
      " source_id            | svcCRMSS             \n",
      " request_address      | 2215  GOLIAD RD, ... \n",
      " council_district     | 003                  \n",
      "-RECORD 2------------------------------------\n",
      " case_id              | 1014127334           \n",
      " case_opened_date     | 2018-01-01 00:48:00  \n",
      " case_closed_date     | 2018-01-02 07:57:00  \n",
      " case_due_date        | 2018-01-05 08:30:00  \n",
      " case_late            | false                \n",
      " num_days_late        | -3.022337963         \n",
      " case_closed          | true                 \n",
      " dept_division        | Storm Water          \n",
      " service_request_type | Removal Of Obstru... \n",
      " SLA_days             | 4.320729167          \n",
      " case_status          | Closed               \n",
      " source_id            | svcCRMSS             \n",
      " request_address      | 102  PALFREY ST W... \n",
      " council_district     | 003                  \n",
      "only showing top 3 rows\n",
      "\n"
     ]
    }
   ],
   "source": [
    "df.printSchema()\n",
    "df.show(3, vertical=True)"
   ]
  },
  {
   "cell_type": "code",
   "execution_count": null,
   "metadata": {},
   "outputs": [],
   "source": []
  },
  {
   "cell_type": "code",
   "execution_count": null,
   "metadata": {},
   "outputs": [],
   "source": []
  },
  {
   "cell_type": "code",
   "execution_count": null,
   "metadata": {},
   "outputs": [],
   "source": []
  },
  {
   "cell_type": "code",
   "execution_count": null,
   "metadata": {},
   "outputs": [],
   "source": []
  },
  {
   "cell_type": "code",
   "execution_count": null,
   "metadata": {},
   "outputs": [],
   "source": []
  },
  {
   "cell_type": "code",
   "execution_count": null,
   "metadata": {
    "scrolled": false
   },
   "outputs": [],
   "source": [
    "df.printSchema()\n",
    "df.show(2, vertical = True)"
   ]
  },
  {
   "cell_type": "code",
   "execution_count": null,
   "metadata": {},
   "outputs": [],
   "source": [
    "df.select(col('request_address'), lower(trim(\"request_address\"))).show(truncate = False)\n",
    "\n",
    "# For homework actually need to apply this to the spark df."
   ]
  },
  {
   "cell_type": "code",
   "execution_count": null,
   "metadata": {},
   "outputs": [],
   "source": []
  },
  {
   "cell_type": "code",
   "execution_count": null,
   "metadata": {},
   "outputs": [],
   "source": []
  },
  {
   "cell_type": "code",
   "execution_count": null,
   "metadata": {},
   "outputs": [],
   "source": [
    "dept = spark.read.csv(\"data/dept.csv\", header=True, inferSchema=True)\n",
    "dept.show(5)"
   ]
  },
  {
   "cell_type": "code",
   "execution_count": null,
   "metadata": {},
   "outputs": [],
   "source": []
  }
 ],
 "metadata": {
  "kernelspec": {
   "display_name": "Python 3",
   "language": "python",
   "name": "python3"
  },
  "language_info": {
   "codemirror_mode": {
    "name": "ipython",
    "version": 3
   },
   "file_extension": ".py",
   "mimetype": "text/x-python",
   "name": "python",
   "nbconvert_exporter": "python",
   "pygments_lexer": "ipython3",
   "version": "3.7.9"
  }
 },
 "nbformat": 4,
 "nbformat_minor": 4
}
