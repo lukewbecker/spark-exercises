{
 "cells": [
  {
   "cell_type": "code",
   "execution_count": 1,
   "metadata": {},
   "outputs": [
    {
     "name": "stdout",
     "output_type": "stream",
     "text": [
      "[wrangle.py] reading case.csv\n",
      "[wrangle.py] handling data types\n",
      "[wrangle.py] parsing dates\n",
      "[wrangle.py] adding features\n",
      "[wrangle.py] joining departments\n",
      "\n",
      "df shape: (841704, 20)\n",
      "\n",
      "-RECORD 0------------------------------------\n",
      " case_id              | 1014127332           \n",
      " case_opened_date     | 2018-01-01 00:42:00  \n",
      " case_closed_date     | 2018-01-01 12:29:00  \n",
      " case_due_date        | 2020-09-26 00:42:00  \n",
      " case_late            | false                \n",
      " num_days_late        | -998.5087616000001   \n",
      " case_closed          | true                 \n",
      " service_request_type | Stray Animal         \n",
      " SLA_days             | 999.0                \n",
      " case_status          | Closed               \n",
      " source_id            | svcCRMLS             \n",
      " request_address      | 2315  EL PASO ST,... \n",
      " council_district     | 005                  \n",
      " num_weeks_late       | -142.6441088         \n",
      " zipcode              | 78207                \n",
      " case_age             | 219                  \n",
      " days_to_closed       | 0                    \n",
      " case_lifetime        | 0                    \n",
      " department           | Animal Care Services \n",
      " dept_subject_to_SLA  | true                 \n",
      "only showing top 1 row\n",
      "\n"
     ]
    }
   ],
   "source": [
    "import warnings\n",
    "\n",
    "warnings.filterwarnings(\"ignore\")\n",
    "\n",
    "import pyspark.sql\n",
    "from pyspark.sql.functions import *\n",
    "\n",
    "import numpy as np\n",
    "import pandas as pd\n",
    "\n",
    "%matplotlib inline\n",
    "import matplotlib.pyplot as plt\n",
    "import seaborn as sns\n",
    "\n",
    "from wrangle import wrangle_311\n",
    "\n",
    "spark = pyspark.sql.SparkSession.builder.getOrCreate()\n",
    "\n",
    "df = wrangle_311(spark)\n",
    "print(\"\\ndf shape: (%d, %d)\\n\" % (df.count(), len(df.columns)))\n",
    "df.show(1, vertical=True)"
   ]
  },
  {
   "cell_type": "markdown",
   "metadata": {},
   "source": [
    "# Exercises"
   ]
  },
  {
   "cell_type": "markdown",
   "metadata": {},
   "source": [
    "#### 1. How many different cases are there, by department?"
   ]
  },
  {
   "cell_type": "code",
   "execution_count": 17,
   "metadata": {},
   "outputs": [
    {
     "name": "stdout",
     "output_type": "stream",
     "text": [
      "+------------------------+-----------+------+\n",
      "|department              |case_status|count |\n",
      "+------------------------+-----------+------+\n",
      "|Animal Care Services    |Closed     |116446|\n",
      "|Animal Care Services    |Open       |469   |\n",
      "|City Council            |Closed     |4     |\n",
      "|City Council            |Open       |29    |\n",
      "|Customer Service        |Closed     |1684  |\n",
      "|Customer Service        |Open       |1165  |\n",
      "|DSD/Code Enforcement    |Closed     |309239|\n",
      "|DSD/Code Enforcement    |Open       |12135 |\n",
      "|Metro Health            |Closed     |5088  |\n",
      "|Metro Health            |Open       |75    |\n",
      "|Parks & Recreation      |Closed     |19511 |\n",
      "|Parks & Recreation      |Open       |396   |\n",
      "|Solid Waste             |Closed     |277660|\n",
      "|Solid Waste             |Open       |1610  |\n",
      "|Trans & Cap Improvements|Closed     |93962 |\n",
      "|Trans & Cap Improvements|Open       |2231  |\n",
      "+------------------------+-----------+------+\n",
      "\n"
     ]
    }
   ],
   "source": [
    "df.groupBy('department', 'case_status').count().sort(\"department\", \"case_status\").show(truncate = False)"
   ]
  },
  {
   "cell_type": "code",
   "execution_count": 16,
   "metadata": {},
   "outputs": [
    {
     "name": "stdout",
     "output_type": "stream",
     "text": [
      "+--------------------+------+\n",
      "|          department| count|\n",
      "+--------------------+------+\n",
      "|         Solid Waste|279270|\n",
      "|Animal Care Services|116915|\n",
      "|Trans & Cap Impro...| 96193|\n",
      "|  Parks & Recreation| 19907|\n",
      "|    Customer Service|  2849|\n",
      "|        Metro Health|  5163|\n",
      "|        City Council|    33|\n",
      "|DSD/Code Enforcement|321374|\n",
      "+--------------------+------+\n",
      "\n"
     ]
    }
   ],
   "source": [
    "df.groupBy('department').count().show()"
   ]
  },
  {
   "cell_type": "code",
   "execution_count": 10,
   "metadata": {},
   "outputs": [
    {
     "data": {
      "image/png": "[encoded data removed]",
      "text/plain": [
       "<Figure size 1008x360 with 1 Axes>"
      ]
     },
     "metadata": {
      "needs_background": "light"
     },
     "output_type": "display_data"
    }
   ],
   "source": [
    "# Example from lesson:\n",
    "\n",
    "# First aggregate with spark\n",
    "(\n",
    "    df.groupBy(\"department\")\n",
    "    .count()\n",
    "    # then pass to pandas\n",
    "    .toPandas()\n",
    "    .set_index(\"department\")[\"count\"]\n",
    "    .sort_values(ascending=False)\n",
    "    .plot.barh(width=1, edgecolor=\"black\", figsize=(14, 5))\n",
    ")\n",
    "\n",
    "plt.title(\"Number of Cases By Department\")\n",
    "plt.ylabel(\"\")\n",
    "plt.xlabel(\"Number of Cases\")\n",
    "plt.show()"
   ]
  },
  {
   "cell_type": "markdown",
   "metadata": {},
   "source": [
    "#### 2. Does the percentage of cases that are late vary by department?"
   ]
  },
  {
   "cell_type": "code",
   "execution_count": 120,
   "metadata": {},
   "outputs": [
    {
     "name": "stdout",
     "output_type": "stream",
     "text": [
      "Original Dataframe \n",
      "------------------\n",
      "\n",
      "+------------------------+-----+\n",
      "|department              |count|\n",
      "+------------------------+-----+\n",
      "|Solid Waste             |32945|\n",
      "|Animal Care Services    |23276|\n",
      "|Trans & Cap Improvements|5411 |\n",
      "|Parks & Recreation      |3797 |\n",
      "|Customer Service        |2010 |\n",
      "|Metro Health            |829  |\n",
      "|DSD/Code Enforcement    |26235|\n",
      "+------------------------+-----+\n",
      "\n",
      "\n",
      " Final Dataframe \n",
      "-----------------\n",
      "\n",
      "+------------------------+-----+----------+\n",
      "|department              |count|percentage|\n",
      "+------------------------+-----+----------+\n",
      "|Solid Waste             |32945|0.35      |\n",
      "|Animal Care Services    |23276|0.25      |\n",
      "|Trans & Cap Improvements|5411 |0.06      |\n",
      "|Parks & Recreation      |3797 |0.04      |\n",
      "|Customer Service        |2010 |0.02      |\n",
      "|Metro Health            |829  |0.01      |\n",
      "|DSD/Code Enforcement    |26235|0.28      |\n",
      "+------------------------+-----+----------+\n",
      "\n"
     ]
    }
   ],
   "source": [
    "# Creating a dataframe grouped by department of *only* late cases:\n",
    "\n",
    "case_late_df = df.filter(expr(\"case_late == true\")).groupBy(\"department\").count()\n",
    "print(\"Original Dataframe \\n------------------\\n\")\n",
    "case_late_df.show(truncate = False)\n",
    "# df.filter(expr(\"case_late == true\")).count()\n",
    "\n",
    "# Now getting the count of all late cases (my denominator).\n",
    "\n",
    "count_late = df.filter(expr(\"case_late == true\")).count()\n",
    "\n",
    "# Creating a column that divides each department total by the overall total, or the percentage of late cases:\n",
    "\n",
    "late_df = case_late_df.withColumn('percentage', round(case_late_df['count'] / float(count_late), 2))\n",
    "\n",
    "# Final df in Spark:\n",
    "print(\"\\n Final Dataframe \\n-----------------\\n\")\n",
    "late_df.show(truncate = False)"
   ]
  },
  {
   "cell_type": "markdown",
   "metadata": {},
   "source": [
    "#### Takeaway:\n",
    "- Yes, the percentage of late cases varies *dramatically* by department."
   ]
  },
  {
   "cell_type": "markdown",
   "metadata": {},
   "source": [
    "#### 3. On average, how late are the late cases by department?"
   ]
  },
  {
   "cell_type": "code",
   "execution_count": 113,
   "metadata": {},
   "outputs": [
    {
     "data": {
      "text/plain": [
       "94503"
      ]
     },
     "execution_count": 113,
     "metadata": {},
     "output_type": "execute_result"
    }
   ],
   "source": [
    "df.filter(df.case_late == True).count()"
   ]
  },
  {
   "cell_type": "code",
   "execution_count": 114,
   "metadata": {},
   "outputs": [
    {
     "name": "stdout",
     "output_type": "stream",
     "text": [
      "+--------------------+------------------+\n",
      "|          department|         mean_late|\n",
      "+--------------------+------------------+\n",
      "|         Solid Waste| 7.186821906120899|\n",
      "|Animal Care Services|23.458633245820124|\n",
      "|Trans & Cap Impro...|10.603064680316946|\n",
      "|  Parks & Recreation|22.348910457867518|\n",
      "|    Customer Service| 87.68385942150394|\n",
      "|        Metro Health|6.5438133155476494|\n",
      "|DSD/Code Enforcement| 49.38428705358908|\n",
      "+--------------------+------------------+\n",
      "\n"
     ]
    }
   ],
   "source": [
    "df.filter(df.case_late == True).groupBy(\"department\").agg((mean(df.num_days_late)).alias(\"mean_late\")).show()"
   ]
  },
  {
   "cell_type": "code",
   "execution_count": 115,
   "metadata": {},
   "outputs": [
    {
     "data": {
      "image/png": "[encoded data removed]",
      "text/plain": [
       "<Figure size 1008x360 with 1 Axes>"
      ]
     },
     "metadata": {
      "needs_background": "light"
     },
     "output_type": "display_data"
    }
   ],
   "source": [
    "# Moving to python for visualization\n",
    "(\n",
    "    df.filter(df.case_late == True)\n",
    "    .groupBy(\"department\")\n",
    "    .agg((mean(df.num_days_late)).alias(\"mean_late\"))\n",
    "    # then pass to pandas\n",
    "    .toPandas()\n",
    "    .set_index(\"department\")[\"mean_late\"]\n",
    "    .sort_values(ascending=False)\n",
    "    .plot.barh(width=1, edgecolor=\"black\", figsize=(14, 5))\n",
    ")\n",
    "\n",
    "plt.title(\"Average Days Late By Department\")\n",
    "plt.ylabel(\"Days Late\")\n",
    "plt.xlabel(\"Number of Cases\")\n",
    "plt.show()"
   ]
  },
  {
   "cell_type": "markdown",
   "metadata": {},
   "source": [
    "#### 4. What is the service type that is the most late? Just for Parks & Rec?"
   ]
  },
  {
   "cell_type": "code",
   "execution_count": 118,
   "metadata": {},
   "outputs": [
    {
     "name": "stdout",
     "output_type": "stream",
     "text": [
      "root\n",
      " |-- case_id: integer (nullable = true)\n",
      " |-- case_opened_date: timestamp (nullable = true)\n",
      " |-- case_closed_date: timestamp (nullable = true)\n",
      " |-- case_due_date: timestamp (nullable = true)\n",
      " |-- case_late: boolean (nullable = true)\n",
      " |-- num_days_late: double (nullable = true)\n",
      " |-- case_closed: boolean (nullable = true)\n",
      " |-- service_request_type: string (nullable = true)\n",
      " |-- SLA_days: double (nullable = true)\n",
      " |-- case_status: string (nullable = true)\n",
      " |-- source_id: string (nullable = true)\n",
      " |-- request_address: string (nullable = true)\n",
      " |-- council_district: string (nullable = false)\n",
      " |-- num_weeks_late: double (nullable = true)\n",
      " |-- zipcode: string (nullable = true)\n",
      " |-- case_age: integer (nullable = true)\n",
      " |-- days_to_closed: integer (nullable = true)\n",
      " |-- case_lifetime: integer (nullable = true)\n",
      " |-- department: string (nullable = true)\n",
      " |-- dept_subject_to_SLA: boolean (nullable = true)\n",
      "\n",
      "-RECORD 0------------------------------------\n",
      " case_id              | 1014127332           \n",
      " case_opened_date     | 2018-01-01 00:42:00  \n",
      " case_closed_date     | 2018-01-01 12:29:00  \n",
      " case_due_date        | 2020-09-26 00:42:00  \n",
      " case_late            | false                \n",
      " num_days_late        | -998.5087616000001   \n",
      " case_closed          | true                 \n",
      " service_request_type | Stray Animal         \n",
      " SLA_days             | 999.0                \n",
      " case_status          | Closed               \n",
      " source_id            | svcCRMLS             \n",
      " request_address      | 2315  EL PASO ST,... \n",
      " council_district     | 005                  \n",
      " num_weeks_late       | -142.6441088         \n",
      " zipcode              | 78207                \n",
      " case_age             | 219                  \n",
      " days_to_closed       | 0                    \n",
      " case_lifetime        | 0                    \n",
      " department           | Animal Care Services \n",
      " dept_subject_to_SLA  | true                 \n",
      "only showing top 1 row\n",
      "\n"
     ]
    },
    {
     "data": {
      "text/plain": [
       "(None, None)"
      ]
     },
     "execution_count": 118,
     "metadata": {},
     "output_type": "execute_result"
    }
   ],
   "source": [
    "df.printSchema(), df.show(1, vertical = True)"
   ]
  },
  {
   "cell_type": "code",
   "execution_count": 130,
   "metadata": {
    "scrolled": false
   },
   "outputs": [
    {
     "name": "stdout",
     "output_type": "stream",
     "text": [
      "+--------------------+------------------+\n",
      "|service_request_type|     avg_days_late|\n",
      "+--------------------+------------------+\n",
      "|Zoning: Recycle Yard|210.89201994318182|\n",
      "|  Zoning: Junk Yards|200.20517608494276|\n",
      "|Structure/Housing...|190.20707698509807|\n",
      "|Donation Containe...|171.09115313942615|\n",
      "|Storage of Used M...|163.96812829714287|\n",
      "+--------------------+------------------+\n",
      "only showing top 5 rows\n",
      "\n"
     ]
    }
   ],
   "source": [
    "# service type that is most late overall: \n",
    "\n",
    "(\n",
    "    df.filter(df.case_late == True)\n",
    "    .groupBy(\"service_request_type\")\n",
    "    .agg(mean(df.num_days_late).alias(\"avg_days_late\"))\n",
    "    .sort(desc(\"avg_days_late\")).show(5)\n",
    ")\n",
    "\n"
   ]
  },
  {
   "cell_type": "code",
   "execution_count": 123,
   "metadata": {},
   "outputs": [
    {
     "name": "stdout",
     "output_type": "stream",
     "text": [
      "index is 0 and value is apples\n",
      "index is 1 and value is bananas\n",
      "index is 2 and value is oranges\n"
     ]
    }
   ],
   "source": [
    "L = ['apples', 'bananas', 'oranges']\n",
    "for idx, val in enumerate(L):\n",
    "    print(\"index is %d and value is %s\" % (idx, val))"
   ]
  },
  {
   "cell_type": "code",
   "execution_count": null,
   "metadata": {},
   "outputs": [],
   "source": []
  }
 ],
 "metadata": {
  "kernelspec": {
   "display_name": "Python 3",
   "language": "python",
   "name": "python3"
  },
  "language_info": {
   "codemirror_mode": {
    "name": "ipython",
    "version": 3
   },
   "file_extension": ".py",
   "mimetype": "text/x-python",
   "name": "python",
   "nbconvert_exporter": "python",
   "pygments_lexer": "ipython3",
   "version": "3.7.9"
  }
 },
 "nbformat": 4,
 "nbformat_minor": 4
}
