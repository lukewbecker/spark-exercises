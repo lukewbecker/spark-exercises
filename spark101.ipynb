{
 "cells": [
  {
   "cell_type": "code",
   "execution_count": 2,
   "metadata": {},
   "outputs": [],
   "source": [
    "import pyspark\n",
    "spark = pyspark.sql.SparkSession.builder.getOrCreate()"
   ]
  },
  {
   "cell_type": "code",
   "execution_count": 95,
   "metadata": {},
   "outputs": [],
   "source": [
    "import pandas as pd\n",
    "import numpy as np\n",
    "\n",
    "from pydataset import data\n",
    "from pyspark.sql.functions import concat, sum, avg, min, max, count, mean, round\n",
    "from pyspark.sql.functions import lit\n",
    "from pyspark.sql.functions import when\n",
    "from pyspark.sql.functions import col, expr"
   ]
  },
  {
   "cell_type": "code",
   "execution_count": 31,
   "metadata": {},
   "outputs": [
    {
     "name": "stdout",
     "output_type": "stream",
     "text": [
      "<pyspark.sql.session.SparkSession object at 0x7fcc48c1e0d0>\n",
      "3.0.1\n"
     ]
    }
   ],
   "source": [
    "print(spark)\n",
    "print(spark.version)"
   ]
  },
  {
   "cell_type": "code",
   "execution_count": 169,
   "metadata": {},
   "outputs": [
    {
     "data": {
      "text/html": [
       "\n",
       "            <div>\n",
       "                <p><b>SparkSession - in-memory</b></p>\n",
       "                \n",
       "        <div>\n",
       "            <p><b>SparkContext</b></p>\n",
       "\n",
       "            <p><a href=\"http://192.168.1.21:4040\">Spark UI</a></p>\n",
       "\n",
       "            <dl>\n",
       "              <dt>Version</dt>\n",
       "                <dd><code>v3.0.1</code></dd>\n",
       "              <dt>Master</dt>\n",
       "                <dd><code>local[*]</code></dd>\n",
       "              <dt>AppName</dt>\n",
       "                <dd><code>pyspark-shell</code></dd>\n",
       "            </dl>\n",
       "        </div>\n",
       "        \n",
       "            </div>\n",
       "        "
      ],
      "text/plain": [
       "<pyspark.sql.session.SparkSession at 0x7fcc48c1e0d0>"
      ]
     },
     "execution_count": 169,
     "metadata": {},
     "output_type": "execute_result"
    }
   ],
   "source": [
    "spark"
   ]
  },
  {
   "cell_type": "markdown",
   "metadata": {},
   "source": [
    "# Exercises"
   ]
  },
  {
   "cell_type": "markdown",
   "metadata": {},
   "source": [
    "### 1. Create a spark data frame that contains your favorite programming languages.\n",
    "\n",
    "- The name of the column should be `language`\n",
    "- View the schema of the dataframe\n",
    "- Output the shape of the dataframe\n",
    "- Show the first 5 records in the dataframe"
   ]
  },
  {
   "cell_type": "code",
   "execution_count": 3,
   "metadata": {},
   "outputs": [],
   "source": [
    "lang_df = pd.DataFrame({\"language\": ['python', 'spark', 'sql', 'swift', 'javascript']})"
   ]
  },
  {
   "cell_type": "code",
   "execution_count": 4,
   "metadata": {},
   "outputs": [
    {
     "data": {
      "text/html": [
       "<div>\n",
       "<style scoped>\n",
       "    .dataframe tbody tr th:only-of-type {\n",
       "        vertical-align: middle;\n",
       "    }\n",
       "\n",
       "    .dataframe tbody tr th {\n",
       "        vertical-align: top;\n",
       "    }\n",
       "\n",
       "    .dataframe thead th {\n",
       "        text-align: right;\n",
       "    }\n",
       "</style>\n",
       "<table border=\"1\" class=\"dataframe\">\n",
       "  <thead>\n",
       "    <tr style=\"text-align: right;\">\n",
       "      <th></th>\n",
       "      <th>language</th>\n",
       "    </tr>\n",
       "  </thead>\n",
       "  <tbody>\n",
       "    <tr>\n",
       "      <th>0</th>\n",
       "      <td>python</td>\n",
       "    </tr>\n",
       "    <tr>\n",
       "      <th>1</th>\n",
       "      <td>spark</td>\n",
       "    </tr>\n",
       "    <tr>\n",
       "      <th>2</th>\n",
       "      <td>sql</td>\n",
       "    </tr>\n",
       "    <tr>\n",
       "      <th>3</th>\n",
       "      <td>swift</td>\n",
       "    </tr>\n",
       "    <tr>\n",
       "      <th>4</th>\n",
       "      <td>javascript</td>\n",
       "    </tr>\n",
       "  </tbody>\n",
       "</table>\n",
       "</div>"
      ],
      "text/plain": [
       "     language\n",
       "0      python\n",
       "1       spark\n",
       "2         sql\n",
       "3       swift\n",
       "4  javascript"
      ]
     },
     "execution_count": 4,
     "metadata": {},
     "output_type": "execute_result"
    }
   ],
   "source": [
    "lang_df"
   ]
  },
  {
   "cell_type": "code",
   "execution_count": 5,
   "metadata": {},
   "outputs": [
    {
     "data": {
      "text/plain": [
       "DataFrame[language: string]"
      ]
     },
     "execution_count": 5,
     "metadata": {},
     "output_type": "execute_result"
    }
   ],
   "source": [
    "sp_df = spark.createDataFrame(lang_df)\n",
    "sp_df"
   ]
  },
  {
   "cell_type": "code",
   "execution_count": 6,
   "metadata": {},
   "outputs": [
    {
     "name": "stdout",
     "output_type": "stream",
     "text": [
      "root\n",
      " |-- language: string (nullable = true)\n",
      "\n"
     ]
    }
   ],
   "source": [
    "sp_df.printSchema()"
   ]
  },
  {
   "cell_type": "code",
   "execution_count": 7,
   "metadata": {},
   "outputs": [
    {
     "name": "stdout",
     "output_type": "stream",
     "text": [
      "5 1\n"
     ]
    }
   ],
   "source": [
    "#printing the shape of the spark df:\n",
    "print(sp_df.count(), len(sp_df.columns))"
   ]
  },
  {
   "cell_type": "code",
   "execution_count": 8,
   "metadata": {},
   "outputs": [
    {
     "name": "stdout",
     "output_type": "stream",
     "text": [
      "+----------+\n",
      "|  language|\n",
      "+----------+\n",
      "|    python|\n",
      "|     spark|\n",
      "|       sql|\n",
      "|     swift|\n",
      "|javascript|\n",
      "+----------+\n",
      "\n"
     ]
    }
   ],
   "source": [
    "sp_df.show(5)"
   ]
  },
  {
   "cell_type": "markdown",
   "metadata": {},
   "source": [
    "### 2 Load the mpg dataset as a spark dataframe.\n",
    "\n",
    "a. Create 1 column of output that contains a message like the one below:\n",
    "\n",
    "`The 1999 audi a4 has a 4 cylinder engine. For each vehicle.`\n",
    "\n",
    "b. Transform the trans column so that it only contains either manual or auto."
   ]
  },
  {
   "cell_type": "code",
   "execution_count": 9,
   "metadata": {},
   "outputs": [],
   "source": [
    "from pyspark.sql.functions import round, concat, sum, min, max, count, avg, mean\n",
    "from pyspark.sql.functions import lit\n",
    "from pyspark.sql.functions import when"
   ]
  },
  {
   "cell_type": "code",
   "execution_count": 20,
   "metadata": {},
   "outputs": [
    {
     "name": "stdout",
     "output_type": "stream",
     "text": [
      "+------------+-----+-----+----+---+----------+---+---+---+---+-------+\n",
      "|manufacturer|model|displ|year|cyl|     trans|drv|cty|hwy| fl|  class|\n",
      "+------------+-----+-----+----+---+----------+---+---+---+---+-------+\n",
      "|        audi|   a4|  1.8|1999|  4|  auto(l5)|  f| 18| 29|  p|compact|\n",
      "|        audi|   a4|  1.8|1999|  4|manual(m5)|  f| 21| 29|  p|compact|\n",
      "|        audi|   a4|  2.0|2008|  4|manual(m6)|  f| 20| 31|  p|compact|\n",
      "|        audi|   a4|  2.0|2008|  4|  auto(av)|  f| 21| 30|  p|compact|\n",
      "|        audi|   a4|  2.8|1999|  6|  auto(l5)|  f| 16| 26|  p|compact|\n",
      "+------------+-----+-----+----+---+----------+---+---+---+---+-------+\n",
      "only showing top 5 rows\n",
      "\n"
     ]
    }
   ],
   "source": [
    "# importing the data:\n",
    "mpg = spark.createDataFrame(data(\"mpg\"))\n",
    "mpg.show(5)"
   ]
  },
  {
   "cell_type": "code",
   "execution_count": 12,
   "metadata": {},
   "outputs": [],
   "source": [
    "from pyspark.sql.functions import regexp_extract, regexp_replace"
   ]
  },
  {
   "cell_type": "code",
   "execution_count": 13,
   "metadata": {},
   "outputs": [
    {
     "name": "stdout",
     "output_type": "stream",
     "text": [
      "+--------------------+\n",
      "|           cylinders|\n",
      "+--------------------+\n",
      "|The 1999 audi a4 ...|\n",
      "+--------------------+\n",
      "only showing top 1 row\n",
      "\n"
     ]
    }
   ],
   "source": [
    "# Use lit\n",
    "\n",
    "mpg.select(concat(lit(\"The \"), mpg.year, lit(\" \"), mpg.manufacturer, lit(\" \"), mpg.model, lit(\" has a \"), mpg.cyl, lit(\" engine\")).alias(\"cylinders\")).show(1)"
   ]
  },
  {
   "cell_type": "code",
   "execution_count": 14,
   "metadata": {},
   "outputs": [
    {
     "name": "stdout",
     "output_type": "stream",
     "text": [
      "+----------+------+\n",
      "|     trans| Trans|\n",
      "+----------+------+\n",
      "|  auto(l5)|  auto|\n",
      "|manual(m5)|manual|\n",
      "|manual(m6)|manual|\n",
      "|  auto(av)|  auto|\n",
      "|  auto(l5)|  auto|\n",
      "+----------+------+\n",
      "only showing top 5 rows\n",
      "\n"
     ]
    }
   ],
   "source": [
    "mpg.select(mpg.trans, when(mpg.trans.contains(\"auto\"), \"auto\").otherwise(\"manual\").alias(\"Trans\")).show(5)"
   ]
  },
  {
   "cell_type": "code",
   "execution_count": null,
   "metadata": {},
   "outputs": [],
   "source": []
  },
  {
   "cell_type": "code",
   "execution_count": null,
   "metadata": {},
   "outputs": [],
   "source": [
    "# Testing out how to use the regex for this problem. Although I think I'll just end up using basic python usage:\n",
    "\n"
   ]
  },
  {
   "cell_type": "markdown",
   "metadata": {},
   "source": [
    "### 3. Load the tips dataset as a spark dataframe.\n",
    "\n",
    "- What percentage of observations are smokers?\n",
    "- Create a column that contains the tip percentage\n",
    "- Calculate the average tip percentage for each combination of sex and smoker."
   ]
  },
  {
   "cell_type": "code",
   "execution_count": 4,
   "metadata": {},
   "outputs": [
    {
     "name": "stdout",
     "output_type": "stream",
     "text": [
      "+----------+----+------+------+---+------+----+\n",
      "|total_bill| tip|   sex|smoker|day|  time|size|\n",
      "+----------+----+------+------+---+------+----+\n",
      "|     16.99|1.01|Female|    No|Sun|Dinner|   2|\n",
      "|     10.34|1.66|  Male|    No|Sun|Dinner|   3|\n",
      "|     21.01| 3.5|  Male|    No|Sun|Dinner|   3|\n",
      "|     23.68|3.31|  Male|    No|Sun|Dinner|   2|\n",
      "|     24.59|3.61|Female|    No|Sun|Dinner|   4|\n",
      "+----------+----+------+------+---+------+----+\n",
      "only showing top 5 rows\n",
      "\n"
     ]
    }
   ],
   "source": [
    "tips = spark.createDataFrame(data(\"tips\"))\n",
    "tips.show(5)"
   ]
  },
  {
   "cell_type": "code",
   "execution_count": 26,
   "metadata": {},
   "outputs": [
    {
     "data": {
      "text/plain": [
       "244"
      ]
     },
     "execution_count": 26,
     "metadata": {},
     "output_type": "execute_result"
    }
   ],
   "source": [
    "tips.count()"
   ]
  },
  {
   "cell_type": "code",
   "execution_count": 32,
   "metadata": {},
   "outputs": [
    {
     "name": "stdout",
     "output_type": "stream",
     "text": [
      "+------+-------------+\n",
      "|smoker|count(smoker)|\n",
      "+------+-------------+\n",
      "|    No|          151|\n",
      "|   Yes|           93|\n",
      "+------+-------------+\n",
      "\n"
     ]
    }
   ],
   "source": [
    "# So this is the count of the smoker column, just need to make it %\n",
    "tips.groupBy('smoker').agg(count(tips.smoker)).show()"
   ]
  },
  {
   "cell_type": "code",
   "execution_count": 33,
   "metadata": {},
   "outputs": [
    {
     "name": "stdout",
     "output_type": "stream",
     "text": [
      "+------+-------------------------------+\n",
      "|smoker|round((count(smoker) / 244), 2)|\n",
      "+------+-------------------------------+\n",
      "|    No|                           0.62|\n",
      "|   Yes|                           0.38|\n",
      "+------+-------------------------------+\n",
      "\n"
     ]
    }
   ],
   "source": [
    "# % of observations that are smokers:\n",
    "\n",
    "tips.groupBy('smoker').agg(round(count(tips.smoker)/ tips.count(),2)).show()"
   ]
  },
  {
   "cell_type": "markdown",
   "metadata": {},
   "source": [
    "#### B. Create a column that contains the tip percentage"
   ]
  },
  {
   "cell_type": "code",
   "execution_count": 41,
   "metadata": {},
   "outputs": [
    {
     "name": "stdout",
     "output_type": "stream",
     "text": [
      "+----------+----+\n",
      "|total_bill| tip|\n",
      "+----------+----+\n",
      "|     16.99|1.01|\n",
      "|     10.34|1.66|\n",
      "|     21.01| 3.5|\n",
      "|     23.68|3.31|\n",
      "|     24.59|3.61|\n",
      "+----------+----+\n",
      "only showing top 5 rows\n",
      "\n"
     ]
    }
   ],
   "source": [
    "# This is accomplished by dividing the tip / total_bill by row...\n",
    "\n",
    "tips.select(tips.total_bill, tips.tip).show(5)"
   ]
  },
  {
   "cell_type": "code",
   "execution_count": 109,
   "metadata": {},
   "outputs": [
    {
     "name": "stdout",
     "output_type": "stream",
     "text": [
      "+----------+----+--------------+\n",
      "|total_bill| tip|tip_percentage|\n",
      "+----------+----+--------------+\n",
      "|     16.99|1.01|         16.82|\n",
      "|     10.34|1.66|          6.23|\n",
      "|     21.01| 3.5|           6.0|\n",
      "|     23.68|3.31|          7.15|\n",
      "|     24.59|3.61|          6.81|\n",
      "+----------+----+--------------+\n",
      "only showing top 5 rows\n",
      "\n"
     ]
    }
   ],
   "source": [
    "# Now to divide so it's a percentage:\n",
    "\n",
    "tips.select(tips.total_bill, tips.tip, round(tips.total_bill / tips.tip, 2).alias('tip_percentage')).show(5)"
   ]
  },
  {
   "cell_type": "markdown",
   "metadata": {},
   "source": [
    "#### C. Calculate the average tip percentage for each combination of sex and smoker."
   ]
  },
  {
   "cell_type": "markdown",
   "metadata": {},
   "source": [
    "- First need to aggregate so that I have 4 categories that look like this:\n",
    "\n",
    "Female   smoker\n",
    "\n",
    "male     smoker\n",
    "\n",
    "female   non-smoker\n",
    "\n",
    "male    smoker\n",
    "\n",
    "And in that way I can create something that then does the math for each of those columns... in other words I'll need to classify each row by aggregation, and then divide the tip by the total bill for each of those groups."
   ]
  },
  {
   "cell_type": "code",
   "execution_count": 81,
   "metadata": {},
   "outputs": [
    {
     "name": "stdout",
     "output_type": "stream",
     "text": [
      "+----------+----+------+------+---+------+----+\n",
      "|total_bill| tip|   sex|smoker|day|  time|size|\n",
      "+----------+----+------+------+---+------+----+\n",
      "|     16.99|1.01|Female|    No|Sun|Dinner|   2|\n",
      "|     10.34|1.66|  Male|    No|Sun|Dinner|   3|\n",
      "|     21.01| 3.5|  Male|    No|Sun|Dinner|   3|\n",
      "|     23.68|3.31|  Male|    No|Sun|Dinner|   2|\n",
      "|     24.59|3.61|Female|    No|Sun|Dinner|   4|\n",
      "+----------+----+------+------+---+------+----+\n",
      "only showing top 5 rows\n",
      "\n"
     ]
    }
   ],
   "source": [
    "tips.show(5)"
   ]
  },
  {
   "cell_type": "code",
   "execution_count": 84,
   "metadata": {},
   "outputs": [
    {
     "name": "stdout",
     "output_type": "stream",
     "text": [
      "+------+------+----------+----+--------------+\n",
      "|smoker|   sex|total_bill| tip|tip_percentage|\n",
      "+------+------+----------+----+--------------+\n",
      "|    No|  Male|      21.5| 3.5|          0.16|\n",
      "|   Yes|Female|     43.11| 5.0|          0.12|\n",
      "|    No|Female|     16.93|3.07|          0.18|\n",
      "|   Yes|  Male|     15.48|2.02|          0.13|\n",
      "|    No|Female|     22.75|3.25|          0.14|\n",
      "+------+------+----------+----+--------------+\n",
      "only showing top 5 rows\n",
      "\n"
     ]
    }
   ],
   "source": [
    "tips.groupBy('smoker', 'sex', 'total_bill', 'tip').agg(round(tips.tip / tips.total_bill, 2).alias(\"tip_percentage\")).show(5)"
   ]
  },
  {
   "cell_type": "code",
   "execution_count": 110,
   "metadata": {},
   "outputs": [],
   "source": [
    "# Ok, so the above isn't what I wanted. What I need to do is create a new column, then groupby, then agg by the average of that new tip_percentage column."
   ]
  },
  {
   "cell_type": "code",
   "execution_count": 100,
   "metadata": {},
   "outputs": [],
   "source": [
    "tip_percentage = tips.withColumn(\"tip_percentage\", (round(col('tip')/col('total_bill'), 2)))"
   ]
  },
  {
   "cell_type": "code",
   "execution_count": 101,
   "metadata": {},
   "outputs": [
    {
     "name": "stdout",
     "output_type": "stream",
     "text": [
      "+----------+----+------+------+---+------+----+--------------+\n",
      "|total_bill| tip|   sex|smoker|day|  time|size|tip_percentage|\n",
      "+----------+----+------+------+---+------+----+--------------+\n",
      "|     16.99|1.01|Female|    No|Sun|Dinner|   2|          0.06|\n",
      "|     10.34|1.66|  Male|    No|Sun|Dinner|   3|          0.16|\n",
      "|     21.01| 3.5|  Male|    No|Sun|Dinner|   3|          0.17|\n",
      "|     23.68|3.31|  Male|    No|Sun|Dinner|   2|          0.14|\n",
      "|     24.59|3.61|Female|    No|Sun|Dinner|   4|          0.15|\n",
      "|     25.29|4.71|  Male|    No|Sun|Dinner|   4|          0.19|\n",
      "|      8.77| 2.0|  Male|    No|Sun|Dinner|   2|          0.23|\n",
      "|     26.88|3.12|  Male|    No|Sun|Dinner|   4|          0.12|\n",
      "|     15.04|1.96|  Male|    No|Sun|Dinner|   2|          0.13|\n",
      "|     14.78|3.23|  Male|    No|Sun|Dinner|   2|          0.22|\n",
      "|     10.27|1.71|  Male|    No|Sun|Dinner|   2|          0.17|\n",
      "|     35.26| 5.0|Female|    No|Sun|Dinner|   4|          0.14|\n",
      "|     15.42|1.57|  Male|    No|Sun|Dinner|   2|           0.1|\n",
      "|     18.43| 3.0|  Male|    No|Sun|Dinner|   4|          0.16|\n",
      "|     14.83|3.02|Female|    No|Sun|Dinner|   2|           0.2|\n",
      "|     21.58|3.92|  Male|    No|Sun|Dinner|   2|          0.18|\n",
      "|     10.33|1.67|Female|    No|Sun|Dinner|   3|          0.16|\n",
      "|     16.29|3.71|  Male|    No|Sun|Dinner|   3|          0.23|\n",
      "|     16.97| 3.5|Female|    No|Sun|Dinner|   3|          0.21|\n",
      "|     20.65|3.35|  Male|    No|Sat|Dinner|   3|          0.16|\n",
      "+----------+----+------+------+---+------+----+--------------+\n",
      "only showing top 20 rows\n",
      "\n"
     ]
    }
   ],
   "source": [
    "tip_percentage.show()"
   ]
  },
  {
   "cell_type": "code",
   "execution_count": 108,
   "metadata": {},
   "outputs": [
    {
     "name": "stdout",
     "output_type": "stream",
     "text": [
      "+------+------+---------------+\n",
      "|smoker|   sex|tip_percentages|\n",
      "+------+------+---------------+\n",
      "|    No|Female|          15.69|\n",
      "|    No|  Male|           16.1|\n",
      "|   Yes|  Male|          15.28|\n",
      "|   Yes|Female|          18.24|\n",
      "+------+------+---------------+\n",
      "\n"
     ]
    }
   ],
   "source": [
    "# Now putting it all together:\n",
    "tips.groupBy('smoker', 'sex').agg(round(avg(tips.tip_percentage), 2).alias(\"tip_percentages\")).show()"
   ]
  },
  {
   "cell_type": "code",
   "execution_count": 158,
   "metadata": {},
   "outputs": [
    {
     "name": "stdout",
     "output_type": "stream",
     "text": [
      "+------+------+---------------+\n",
      "|smoker|   sex|tip_percentages|\n",
      "+------+------+---------------+\n",
      "|    No|Female|          15.69|\n",
      "|    No|  Male|           16.1|\n",
      "|   Yes|  Male|          15.28|\n",
      "|   Yes|Female|          18.24|\n",
      "+------+------+---------------+\n",
      "\n"
     ]
    }
   ],
   "source": [
    "# Now putting it all together using mean:\n",
    "tips.groupBy('smoker', 'sex').agg(round(mean(tips.tip_percentage), 2).alias(\"tip_percentages\")).show()"
   ]
  },
  {
   "cell_type": "code",
   "execution_count": 159,
   "metadata": {},
   "outputs": [
    {
     "name": "stdout",
     "output_type": "stream",
     "text": [
      "+------+-----+-----+\n",
      "|   sex|   No|  Yes|\n",
      "+------+-----+-----+\n",
      "|Female|15.69|18.24|\n",
      "|  Male| 16.1|15.28|\n",
      "+------+-----+-----+\n",
      "\n"
     ]
    }
   ],
   "source": [
    "# Using pivot to make the table a little cleaner:\n",
    "\n",
    "tips.groupBy('sex').pivot('smoker').agg(round(mean(tips.tip_percentage), 2).alias(\"tip_percentages\")).show()"
   ]
  },
  {
   "cell_type": "markdown",
   "metadata": {},
   "source": [
    "### Done."
   ]
  },
  {
   "cell_type": "markdown",
   "metadata": {},
   "source": [
    "### 4. Use the seattle weather dataset referenced in the lesson to answer the questions below.\n",
    "\n",
    "- Convert the temperatures to farenheight.\n",
    "- Which month has the most rain, on average?\n",
    "- Which year was the windiest?\n",
    "- What is the most frequent type of weather in January?\n",
    "- What is the average high and low temperature on sunny days in July in 2013 and 2014?\n",
    "- What percentage of days were rainy in q3 of 2015?\n",
    "- For each year, find what percentage of days it rained (had non-zero precipitation)."
   ]
  },
  {
   "cell_type": "code",
   "execution_count": 117,
   "metadata": {},
   "outputs": [],
   "source": [
    "from pyspark.sql.functions import month, year, quarter"
   ]
  },
  {
   "cell_type": "code",
   "execution_count": 87,
   "metadata": {},
   "outputs": [
    {
     "name": "stdout",
     "output_type": "stream",
     "text": [
      "+----------+-------------+--------+--------+----+-------+\n",
      "|      date|precipitation|temp_max|temp_min|wind|weather|\n",
      "+----------+-------------+--------+--------+----+-------+\n",
      "|2012-01-01|          0.0|    12.8|     5.0| 4.7|drizzle|\n",
      "|2012-01-02|         10.9|    10.6|     2.8| 4.5|   rain|\n",
      "|2012-01-03|          0.8|    11.7|     7.2| 2.3|   rain|\n",
      "|2012-01-04|         20.3|    12.2|     5.6| 4.7|   rain|\n",
      "|2012-01-05|          1.3|     8.9|     2.8| 6.1|   rain|\n",
      "|2012-01-06|          2.5|     4.4|     2.2| 2.2|   rain|\n",
      "+----------+-------------+--------+--------+----+-------+\n",
      "only showing top 6 rows\n",
      "\n"
     ]
    }
   ],
   "source": [
    "from vega_datasets import data\n",
    "\n",
    "weather = data.seattle_weather().assign(date=lambda df: df.date.astype(str))\n",
    "weather = spark.createDataFrame(weather)\n",
    "weather.show(6)"
   ]
  },
  {
   "cell_type": "markdown",
   "metadata": {},
   "source": [
    "#### Convert the temperatures to farenheight."
   ]
  },
  {
   "cell_type": "code",
   "execution_count": 111,
   "metadata": {},
   "outputs": [],
   "source": [
    "# Exocortex source: https://www.programiz.com/python-programming/examples/celsius-fahrenheit"
   ]
  },
  {
   "cell_type": "code",
   "execution_count": 115,
   "metadata": {},
   "outputs": [
    {
     "name": "stdout",
     "output_type": "stream",
     "text": [
      "+----------+-------------+--------+--------+----+-------+\n",
      "|      date|precipitation|temp_max|temp_min|wind|weather|\n",
      "+----------+-------------+--------+--------+----+-------+\n",
      "|2012-01-01|          0.0|    12.8|    41.0| 4.7|drizzle|\n",
      "|2012-01-02|         10.9|    10.6|    37.0| 4.5|   rain|\n",
      "|2012-01-03|          0.8|    11.7|    45.0| 2.3|   rain|\n",
      "|2012-01-04|         20.3|    12.2|    42.0| 4.7|   rain|\n",
      "|2012-01-05|          1.3|     8.9|    37.0| 6.1|   rain|\n",
      "|2012-01-06|          2.5|     4.4|    36.0| 2.2|   rain|\n",
      "|2012-01-07|          0.0|     7.2|    37.0| 2.3|   rain|\n",
      "|2012-01-08|          0.0|    10.0|    37.0| 2.0|    sun|\n",
      "|2012-01-09|          4.3|     9.4|    41.0| 3.4|   rain|\n",
      "|2012-01-10|          1.0|     6.1|    33.0| 3.4|   rain|\n",
      "|2012-01-11|          0.0|     6.1|    30.0| 5.1|    sun|\n",
      "|2012-01-12|          0.0|     6.1|    29.0| 1.9|    sun|\n",
      "|2012-01-13|          0.0|     5.0|    27.0| 1.3|    sun|\n",
      "|2012-01-14|          4.1|     4.4|    33.0| 5.3|   snow|\n",
      "|2012-01-15|          5.3|     1.1|    26.0| 3.2|   snow|\n",
      "|2012-01-16|          2.5|     1.7|    27.0| 5.0|   snow|\n",
      "|2012-01-17|          8.1|     3.3|    32.0| 5.6|   snow|\n",
      "|2012-01-18|         19.8|     0.0|    27.0| 5.0|   snow|\n",
      "|2012-01-19|         15.2|    -1.1|    27.0| 1.6|   snow|\n",
      "|2012-01-20|         13.5|     7.2|    30.0| 2.3|   snow|\n",
      "+----------+-------------+--------+--------+----+-------+\n",
      "only showing top 20 rows\n",
      "\n"
     ]
    }
   ],
   "source": [
    "weather_adjust = weather.withColumn(\"temp_max\", expr(\"ROUND(temp_max * 1.8 + 32)\"))\n",
    "weather_adjust = weather.withColumn(\"temp_min\", expr(\"ROUND(temp_min * 1.8 + 32)\"))\n",
    "weather_adjust.show()"
   ]
  },
  {
   "cell_type": "markdown",
   "metadata": {},
   "source": [
    "#### Which month has the most rain, on average?"
   ]
  },
  {
   "cell_type": "code",
   "execution_count": 162,
   "metadata": {},
   "outputs": [
    {
     "name": "stdout",
     "output_type": "stream",
     "text": [
      "+-----+------------+\n",
      "|month|avg_rainfall|\n",
      "+-----+------------+\n",
      "|   11|        5.35|\n",
      "|   12|        5.02|\n",
      "|    3|        4.89|\n",
      "|   10|        4.06|\n",
      "|    1|        3.76|\n",
      "|    2|        3.73|\n",
      "|    4|        3.13|\n",
      "|    9|        1.96|\n",
      "|    5|        1.67|\n",
      "|    8|        1.32|\n",
      "|    6|        1.11|\n",
      "|    7|        0.39|\n",
      "+-----+------------+\n",
      "\n"
     ]
    }
   ],
   "source": [
    "weather.withColumn(\"month\", month(\"date\")).groupBy(\"month\").agg(round(mean(\"precipitation\"), 2).alias(\"avg_rainfall\")).sort(col('avg_rainfall').desc()).show()"
   ]
  },
  {
   "cell_type": "markdown",
   "metadata": {},
   "source": [
    "#### Which year was the windiest?\n",
    "\n",
    "- Expecting to have the same process, but instead now I'm looking for the `max` of the wind measurement per year."
   ]
  },
  {
   "cell_type": "code",
   "execution_count": 131,
   "metadata": {},
   "outputs": [
    {
     "name": "stdout",
     "output_type": "stream",
     "text": [
      "+----------+-------------+--------+--------+----+-------+\n",
      "|      date|precipitation|temp_max|temp_min|wind|weather|\n",
      "+----------+-------------+--------+--------+----+-------+\n",
      "|2012-01-01|          0.0|    12.8|     5.0| 4.7|drizzle|\n",
      "|2012-01-02|         10.9|    10.6|     2.8| 4.5|   rain|\n",
      "|2012-01-03|          0.8|    11.7|     7.2| 2.3|   rain|\n",
      "|2012-01-04|         20.3|    12.2|     5.6| 4.7|   rain|\n",
      "|2012-01-05|          1.3|     8.9|     2.8| 6.1|   rain|\n",
      "+----------+-------------+--------+--------+----+-------+\n",
      "only showing top 5 rows\n",
      "\n"
     ]
    }
   ],
   "source": [
    "weather.show(5)"
   ]
  },
  {
   "cell_type": "code",
   "execution_count": 163,
   "metadata": {},
   "outputs": [
    {
     "name": "stdout",
     "output_type": "stream",
     "text": [
      "+----+---------------+\n",
      "|year|max_annual_wind|\n",
      "+----+---------------+\n",
      "|2012|            9.5|\n",
      "|2013|            8.8|\n",
      "|2014|            8.8|\n",
      "|2015|            8.0|\n",
      "+----+---------------+\n",
      "\n"
     ]
    }
   ],
   "source": [
    "weather_adjust.withColumn(\"year\", year(\"date\")).groupBy(\"year\").agg(round(max(\"wind\"), 2).alias(\"max_annual_wind\")).sort(col('max_annual_wind').desc()).show()"
   ]
  },
  {
   "cell_type": "markdown",
   "metadata": {},
   "source": [
    "#### What is the most frequent type of weather in January?"
   ]
  },
  {
   "cell_type": "code",
   "execution_count": 168,
   "metadata": {},
   "outputs": [
    {
     "name": "stdout",
     "output_type": "stream",
     "text": [
      "+-------+-----+\n",
      "|weather|count|\n",
      "+-------+-----+\n",
      "|    fog|   38|\n",
      "|   rain|   35|\n",
      "|    sun|   33|\n",
      "|drizzle|   10|\n",
      "|   snow|    8|\n",
      "+-------+-----+\n",
      "\n"
     ]
    }
   ],
   "source": [
    "weather.filter(month(\"date\") == 1).groupBy(\"weather\").agg(count(\"weather\").alias(\"count\")).sort(col(\"count\").desc()).show()\n",
    "\n",
    "# or instead of .show() I could use .first()"
   ]
  },
  {
   "cell_type": "markdown",
   "metadata": {},
   "source": [
    "It appears that fog was the most common kind of weather in January."
   ]
  },
  {
   "cell_type": "markdown",
   "metadata": {},
   "source": [
    "#### What is the average high and low temperature on sunny days in July in 2013 and 2014?\n",
    "\n",
    "- So with this problem I'm going to have to filter by the month, and then isloate only the sunny days in each of those months."
   ]
  },
  {
   "cell_type": "code",
   "execution_count": 142,
   "metadata": {},
   "outputs": [
    {
     "name": "stdout",
     "output_type": "stream",
     "text": [
      "+------------------+-----------------+\n",
      "| average_high_temp| average_low_temp|\n",
      "+------------------+-----------------+\n",
      "|26.828846153846158|14.18269230769231|\n",
      "+------------------+-----------------+\n",
      "\n"
     ]
    }
   ],
   "source": [
    "(\n",
    "    weather.filter(month(\"date\") == 7)\n",
    "    .filter(year(\"date\") > 2012)\n",
    "    .filter(year(\"date\") < 2015)\n",
    "    .filter(col(\"weather\") == lit(\"sun\"))\n",
    "    .agg(\n",
    "        avg(\"temp_max\").alias(\"average_high_temp\"),\n",
    "        avg(\"temp_min\").alias(\"average_low_temp\"),\n",
    "    )\n",
    "    .show()\n",
    ")"
   ]
  },
  {
   "cell_type": "markdown",
   "metadata": {},
   "source": [
    "#### What percentage of days were rainy in q3 of 2015?"
   ]
  },
  {
   "cell_type": "code",
   "execution_count": 143,
   "metadata": {},
   "outputs": [
    {
     "name": "stdout",
     "output_type": "stream",
     "text": [
      "+--------------------+\n",
      "|           avg(rain)|\n",
      "+--------------------+\n",
      "|0.021739130434782608|\n",
      "+--------------------+\n",
      "\n"
     ]
    }
   ],
   "source": [
    "(\n",
    "    weather.filter(year(\"date\") == 2015)\n",
    "    .filter(quarter(\"date\") == 3)\n",
    "    .select(when(col(\"weather\") == \"rain\", 1).otherwise(0).alias(\"rain\"))\n",
    "    .agg(mean(\"rain\"))\n",
    "    .show()\n",
    ")"
   ]
  },
  {
   "cell_type": "markdown",
   "metadata": {},
   "source": [
    "Nice, so we used the when/otherwise functions to create a boolean mask."
   ]
  },
  {
   "cell_type": "markdown",
   "metadata": {},
   "source": [
    "#### For each year, find what percentage of days it rained (had non-zero precipitation)."
   ]
  },
  {
   "cell_type": "code",
   "execution_count": 156,
   "metadata": {},
   "outputs": [
    {
     "name": "stdout",
     "output_type": "stream",
     "text": [
      "+----+----------+\n",
      "|year|avg_precip|\n",
      "+----+----------+\n",
      "|2015|      0.39|\n",
      "|2013|      0.42|\n",
      "|2014|      0.41|\n",
      "|2012|      0.48|\n",
      "+----+----------+\n",
      "\n"
     ]
    }
   ],
   "source": [
    "weather.withColumn(\"year\", year(\"date\")).select(\"year\", when(col(\"precipitation\") > 0, 1).otherwise(0).alias(\"rain\")).groupBy(\"year\").agg(round(mean('rain'), 2).alias(\"avg_precip\")).show()"
   ]
  },
  {
   "cell_type": "markdown",
   "metadata": {},
   "source": [
    "#### Scratch area"
   ]
  },
  {
   "cell_type": "code",
   "execution_count": null,
   "metadata": {},
   "outputs": [],
   "source": []
  },
  {
   "cell_type": "code",
   "execution_count": 116,
   "metadata": {},
   "outputs": [
    {
     "name": "stdout",
     "output_type": "stream",
     "text": [
      "+----------+-------------+--------+--------+----+-------+--------+\n",
      "|      date|precipitation|temp_max|temp_min|wind|weather|temp_avg|\n",
      "+----------+-------------+--------+--------+----+-------+--------+\n",
      "|2012-01-01|          0.0|    12.8|    41.0| 4.7|drizzle|    27.0|\n",
      "|2012-01-02|         10.9|    10.6|    37.0| 4.5|   rain|    24.0|\n",
      "|2012-01-03|          0.8|    11.7|    45.0| 2.3|   rain|    28.5|\n",
      "|2012-01-04|         20.3|    12.2|    42.0| 4.7|   rain|    27.0|\n",
      "|2012-01-05|          1.3|     8.9|    37.0| 6.1|   rain|    23.0|\n",
      "|2012-01-06|          2.5|     4.4|    36.0| 2.2|   rain|    20.0|\n",
      "|2012-01-07|          0.0|     7.2|    37.0| 2.3|   rain|    22.0|\n",
      "|2012-01-08|          0.0|    10.0|    37.0| 2.0|    sun|    23.5|\n",
      "|2012-01-09|          4.3|     9.4|    41.0| 3.4|   rain|    25.0|\n",
      "|2012-01-10|          1.0|     6.1|    33.0| 3.4|   rain|    19.5|\n",
      "|2012-01-11|          0.0|     6.1|    30.0| 5.1|    sun|    18.0|\n",
      "|2012-01-12|          0.0|     6.1|    29.0| 1.9|    sun|    17.5|\n",
      "|2012-01-13|          0.0|     5.0|    27.0| 1.3|    sun|    16.0|\n",
      "|2012-01-14|          4.1|     4.4|    33.0| 5.3|   snow|    18.5|\n",
      "|2012-01-15|          5.3|     1.1|    26.0| 3.2|   snow|    13.5|\n",
      "|2012-01-16|          2.5|     1.7|    27.0| 5.0|   snow|    14.5|\n",
      "|2012-01-17|          8.1|     3.3|    32.0| 5.6|   snow|    17.5|\n",
      "|2012-01-18|         19.8|     0.0|    27.0| 5.0|   snow|    13.5|\n",
      "|2012-01-19|         15.2|    -1.1|    27.0| 1.6|   snow|    13.0|\n",
      "|2012-01-20|         13.5|     7.2|    30.0| 2.3|   snow|    18.5|\n",
      "+----------+-------------+--------+--------+----+-------+--------+\n",
      "only showing top 20 rows\n",
      "\n"
     ]
    }
   ],
   "source": [
    "# first step is to create an average temp column:\n",
    "\n",
    "weather_adjust = weather_adjust.withColumn('temp_avg', expr(\"ROUND(temp_min + temp_max) / 2\"))\n",
    "weather_adjust.show()"
   ]
  },
  {
   "cell_type": "code",
   "execution_count": 129,
   "metadata": {},
   "outputs": [
    {
     "name": "stdout",
     "output_type": "stream",
     "text": [
      "+-----+--------------+\n",
      "|month|avg_month_temp|\n",
      "+-----+--------------+\n",
      "|    1|         22.52|\n",
      "|   12|         23.08|\n",
      "|    2|         24.58|\n",
      "|   11|         25.71|\n",
      "|    3|         26.58|\n",
      "|    4|         29.24|\n",
      "|   10|         32.61|\n",
      "|    5|          34.3|\n",
      "|    9|         38.08|\n",
      "|    6|         38.23|\n",
      "|    7|         41.78|\n",
      "|    8|         42.35|\n",
      "+-----+--------------+\n",
      "\n"
     ]
    }
   ],
   "source": [
    "weather_adjust.withColumn(\"month\", month(\"date\")).groupBy(\"month\").agg(round(mean(\"temp_avg\"), 2).alias(\"avg_month_temp\")).sort('avg_month_temp').show()"
   ]
  },
  {
   "cell_type": "code",
   "execution_count": 20,
   "metadata": {},
   "outputs": [
    {
     "name": "stdout",
     "output_type": "stream",
     "text": [
      "+----------------------------------+-----------------+\n",
      "|(sum(hwy) / count(hwy) AS `avg_1`)|            avg_2|\n",
      "+----------------------------------+-----------------+\n",
      "|                 23.44017094017094|23.44017094017094|\n",
      "+----------------------------------+-----------------+\n",
      "\n"
     ]
    }
   ],
   "source": [
    "mpg.select(sum(mpg.hwy)/count(mpg.hwy).alias(\"avg_1\"), avg(mpg.hwy).alias(\"avg_2\")).show()"
   ]
  },
  {
   "cell_type": "code",
   "execution_count": 23,
   "metadata": {},
   "outputs": [
    {
     "name": "stdout",
     "output_type": "stream",
     "text": [
      "+------------------------------+\n",
      "|concat(manufacturer,  , model)|\n",
      "+------------------------------+\n",
      "|                       audi a4|\n",
      "|                       audi a4|\n",
      "|                       audi a4|\n",
      "|                       audi a4|\n",
      "|                       audi a4|\n",
      "+------------------------------+\n",
      "only showing top 5 rows\n",
      "\n"
     ]
    }
   ],
   "source": [
    "mpg.select(concat(mpg.manufacturer, lit(\" \"), lit(mpg.model))).show(5)"
   ]
  },
  {
   "cell_type": "code",
   "execution_count": 21,
   "metadata": {},
   "outputs": [
    {
     "name": "stdout",
     "output_type": "stream",
     "text": [
      "+--------------------------------------+\n",
      "|(sum(hwy) / count(hwy) AS `average_1`)|\n",
      "+--------------------------------------+\n",
      "|                     23.44017094017094|\n",
      "+--------------------------------------+\n",
      "\n"
     ]
    }
   ],
   "source": [
    "mpg.select(sum(mpg.hwy) / count(mpg.hwy).alias(\"average_1\")).show()"
   ]
  },
  {
   "cell_type": "code",
   "execution_count": 24,
   "metadata": {},
   "outputs": [
    {
     "name": "stdout",
     "output_type": "stream",
     "text": [
      "+--------+\n",
      "|sum(hwy)|\n",
      "+--------+\n",
      "|    5485|\n",
      "+--------+\n",
      "\n"
     ]
    }
   ],
   "source": [
    "mpg.select(sum(mpg.hwy)).show()"
   ]
  },
  {
   "cell_type": "code",
   "execution_count": null,
   "metadata": {},
   "outputs": [],
   "source": []
  }
 ],
 "metadata": {
  "kernelspec": {
   "display_name": "Python 3",
   "language": "python",
   "name": "python3"
  },
  "language_info": {
   "codemirror_mode": {
    "name": "ipython",
    "version": 3
   },
   "file_extension": ".py",
   "mimetype": "text/x-python",
   "name": "python",
   "nbconvert_exporter": "python",
   "pygments_lexer": "ipython3",
   "version": "3.7.9"
  }
 },
 "nbformat": 4,
 "nbformat_minor": 4
}
